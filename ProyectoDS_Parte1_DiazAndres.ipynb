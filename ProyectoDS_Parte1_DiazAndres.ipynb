{
  "nbformat": 4,
  "nbformat_minor": 0,
  "metadata": {
    "colab": {
      "provenance": [],
      "authorship_tag": "ABX9TyPqqr7VRO/0fnh4/IyUHtGA",
      "include_colab_link": true
    },
    "kernelspec": {
      "name": "python3",
      "display_name": "Python 3"
    },
    "language_info": {
      "name": "python"
    }
  },
  "cells": [
    {
      "cell_type": "markdown",
      "metadata": {
        "id": "view-in-github",
        "colab_type": "text"
      },
      "source": [
        "<a href=\"https://colab.research.google.com/github/andresmd81/DataScience/blob/main/ProyectoDS_Parte1_DiazAndres.ipynb\" target=\"_parent\"><img src=\"https://colab.research.google.com/assets/colab-badge.svg\" alt=\"Open In Colab\"/></a>"
      ]
    },
    {
      "cell_type": "code",
      "execution_count": null,
      "metadata": {
        "id": "6IPHlYNLlHpm"
      },
      "outputs": [],
      "source": []
    },
    {
      "cell_type": "markdown",
      "source": [
        "# **Proyecto Final - Visualizaciones en Python**\n",
        "\n",
        "Primera Entega\n",
        "\n",
        "Archivo: ProyectoDS_Parte1_DiazAndres.ipnyb\n",
        "\n",
        "![CoderHouse.jpg](data:image/jpeg;base64,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)\n",
        "\n",
        "Alumno: Andres Diaz\n",
        "\n",
        "Curso: 77695"
      ],
      "metadata": {
        "id": "HyutFg_olnDe"
      }
    },
    {
      "cell_type": "markdown",
      "source": [
        "# **Abstract**\n",
        "\n",
        "Este proyecto utiliza el dataset “Ventas Samsung 2024 en Argentina”, el cual contiene el registro detallado de las operaciones realizadas en tiendas físicas y canales online de la marca a lo largo del año. La base de datos incluye información sobre las tiendas, fechas de venta, provincias y ciudades, categorías y productos comercializados, precios, cantidades, bonificaciones, medios de pago, tipo de venta y datos generales de los clientes.\n",
        "\n",
        "El objetivo del proyecto es analizar las ventas de Samsung desde una perspectiva descriptiva y visual, respondiendo preguntas de interés sobre la facturación por categoría de producto, la evolución temporal de las ventas, la distribución geográfica de las operaciones, las preferencias de pago y las diferencias entre compras presenciales y en línea. Para ello, se aplicarán técnicas de análisis exploratorio de datos (EDA), incluyendo estadísticas descriptivas, análisis univariado y bivariado, y visualizaciones interactivas con herramientas como pandas, Matplotlib y Seaborn.\n",
        "\n",
        "Este análisis permitirá identificar patrones de consumo, tendencias temporales y regionales, así como hábitos de compra de los clientes, constituyendo una base sólida para futuros trabajos de predicción de ventas, segmentación de clientes y estrategias de marketing basadas en datos."
      ],
      "metadata": {
        "id": "mUvOghMdm8pm"
      }
    },
    {
      "cell_type": "code",
      "source": [],
      "metadata": {
        "id": "KXwZF8u-qW67"
      },
      "execution_count": null,
      "outputs": []
    },
    {
      "cell_type": "markdown",
      "source": [
        "#**Preguntas / Hipótesis de interés**\n",
        "\n",
        "\n",
        "\n",
        "\n",
        "\n",
        "¿Qué categoría de productos (Smartphones, TVs, Tablets, Electrodomésticos, etc.) generó mayor facturación a lo largo del año?\n",
        "Hipótesis: Los smartphones son la categoría con mayor peso en las ventas totales.\n",
        "\n",
        "¿Cómo varían las ventas mes a mes a lo largo del 2024?\n",
        "Hipótesis: Las ventas presentan picos en fechas clave (ejemplo: Hot Sale, Black Friday, Navidad).\n",
        "\n",
        "¿Qué provincias o ciudades concentran la mayor cantidad de ventas?\n",
        "Hipótesis: Capital Federal, Buenos Aires y grandes ciudades concentran la mayor parte de las operaciones.\n",
        "\n",
        "¿Qué medio de pago es más utilizado (tarjeta, efectivo, transferencia)?\n",
        "Hipótesis: La mayoría de los clientes prefieren tarjeta de crédito.\n",
        "\n",
        "¿Las compras realizadas en tienda física difieren de las compras online (web) en ticket promedio?\n",
        "Hipótesis: El ticket promedio de la web es más alto porque se suelen comprar productos de mayor valor."
      ],
      "metadata": {
        "id": "UP_knzJnn-sD"
      }
    },
    {
      "cell_type": "markdown",
      "source": [
        "#**Objetivo del proyecto**\n",
        "\n",
        "El objetivo de este proyecto es analizar el comportamiento de las ventas de Samsung en Argentina durante el año 2024, utilizando la información registrada en el dataset de operaciones comerciales. Para ello, se buscará responder preguntas clave relacionadas con la evolución mensual de las ventas, las categorías de productos con mayor facturación, la distribución geográfica del consumo, las preferencias en los medios de pago y las diferencias entre las compras realizadas en tiendas físicas y en la web.\n",
        "Este análisis permitirá identificar patrones de consumo, tendencias temporales y regionales, así como los hábitos de los clientes, aportando información valiosa para la toma de decisiones estratégicas en marketing, logística y planificación comercial de la empresa."
      ],
      "metadata": {
        "id": "gFNKtDyIpcnR"
      }
    },
    {
      "cell_type": "markdown",
      "source": [],
      "metadata": {
        "id": "vxWrxwSvptun"
      }
    },
    {
      "cell_type": "markdown",
      "source": [
        "# Visualizaciones y Análisis"
      ],
      "metadata": {
        "id": "GV_veSo8p63N"
      }
    },
    {
      "cell_type": "code",
      "source": [
        "import pandas as pd\n",
        "import seaborn as sns\n",
        "import matplotlib.pyplot as plt\n",
        "\n",
        "df = pd.read_excel('./storage/')\n",
        "df.head()"
      ],
      "metadata": {
        "id": "a2MvtApqlu7N"
      },
      "execution_count": 1,
      "outputs": []
    },
    {
      "cell_type": "code",
      "source": [],
      "metadata": {
        "id": "FsdGNR-Qlulo"
      },
      "execution_count": null,
      "outputs": []
    }
  ]
}